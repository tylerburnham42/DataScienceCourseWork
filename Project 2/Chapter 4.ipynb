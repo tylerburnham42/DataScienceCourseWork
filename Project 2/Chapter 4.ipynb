{
 "cells": [
  {
   "cell_type": "markdown",
   "metadata": {},
   "source": [
    "### Chapter 4"
   ]
  },
  {
   "cell_type": "code",
   "execution_count": 1,
   "metadata": {
    "collapsed": true
   },
   "outputs": [],
   "source": [
    "import pandas as pd\n",
    "import numpy as np\n",
    "import matplotlib.pyplot as plt\n",
    "import math\n",
    "\n",
    "#Show the graphs inline with the code!\n",
    "%matplotlib inline"
   ]
  },
  {
   "cell_type": "code",
   "execution_count": 2,
   "metadata": {
    "collapsed": true
   },
   "outputs": [],
   "source": [
    "height_weight_age = [70, # inches,\n",
    "                    170, # pounds,\n",
    "                    40 ] # years\n",
    "\n",
    "grades = [95, # exam1\n",
    "          80, # exam2\n",
    "          75, # exam3\n",
    "          62 ] # exam4"
   ]
  },
  {
   "cell_type": "code",
   "execution_count": 3,
   "metadata": {
    "collapsed": true
   },
   "outputs": [],
   "source": [
    "height_weight_age = np.array([70,170,40])\n",
    "grades = np.array([95,80,75,62])"
   ]
  },
  {
   "cell_type": "code",
   "execution_count": null,
   "metadata": {
    "collapsed": true
   },
   "outputs": [],
   "source": []
  },
  {
   "cell_type": "code",
   "execution_count": 4,
   "metadata": {
    "collapsed": false
   },
   "outputs": [
    {
     "name": "stdout",
     "output_type": "stream",
     "text": [
      "[6, 8, 10]\n"
     ]
    }
   ],
   "source": [
    "def vector_add(v, w):\n",
    "    \"\"\"adds corresponding elements\"\"\"\n",
    "    return [v_i + w_i\n",
    "            for v_i, w_i in zip(v, w)]\n",
    "\n",
    "print(vector_add([1,2,3], [5,6,7]))"
   ]
  },
  {
   "cell_type": "code",
   "execution_count": 5,
   "metadata": {
    "collapsed": false
   },
   "outputs": [
    {
     "name": "stdout",
     "output_type": "stream",
     "text": [
      "[ 6  8 10]\n"
     ]
    }
   ],
   "source": [
    "def numpy_add(arr1, arr2):\n",
    "    return (arr1 + arr2)\n",
    "\n",
    "print(numpy_add(np.array([1,2,3]),np.array([5,6,7])))"
   ]
  },
  {
   "cell_type": "code",
   "execution_count": 6,
   "metadata": {
    "collapsed": false
   },
   "outputs": [
    {
     "name": "stdout",
     "output_type": "stream",
     "text": [
      "[3 1] + [1 4] = [4 5]\n"
     ]
    },
    {
     "data": {
      "image/png": "[encoded data removed]",
      "text/plain": [
       "<matplotlib.figure.Figure at 0x1d2a2bdef28>"
      ]
     },
     "metadata": {},
     "output_type": "display_data"
    }
   ],
   "source": [
    "arr1 = np.array([3,1])\n",
    "arr2 = np.array([1,4])\n",
    "arrSum = arr1+arr2\n",
    "print(arr1,\"+\",arr2,\"=\",arrSum)\n",
    "\n",
    "plt.plot([0,arr1[0]], [0,arr1[1]], 'k-', color='b', lw=2, label=\"Vector 1\")\n",
    "plt.plot([arr1[0], arrSum[0]], [arr1[1],arrSum[1]], 'k-', color='r', lw=2, label=\"Vector 2\")\n",
    "plt.plot([0,arrSum[0]], [0,arrSum[1]], 'k-', color='g', lw=2, label=\"Vector Sum\")\n",
    "\n",
    "\n",
    "axes = plt.gca()\n",
    "ax = plt.axes()\n",
    "plt.legend(loc=2)\n",
    "plt.show()"
   ]
  },
  {
   "cell_type": "code",
   "execution_count": null,
   "metadata": {
    "collapsed": true
   },
   "outputs": [],
   "source": []
  },
  {
   "cell_type": "code",
   "execution_count": 7,
   "metadata": {
    "collapsed": false
   },
   "outputs": [
    {
     "name": "stdout",
     "output_type": "stream",
     "text": [
      "[-4, -4, -4]\n"
     ]
    }
   ],
   "source": [
    "def vector_subtract(v, w):\n",
    "    \"\"\"subtracts corresponding elements\"\"\"\n",
    "    return [v_i - w_i\n",
    "    for v_i, w_i in zip(v, w)]\n",
    "\n",
    "print(vector_subtract([1,2,3], [5,6,7]))"
   ]
  },
  {
   "cell_type": "code",
   "execution_count": 8,
   "metadata": {
    "collapsed": false
   },
   "outputs": [
    {
     "name": "stdout",
     "output_type": "stream",
     "text": [
      "[-4 -4 -4]\n"
     ]
    }
   ],
   "source": [
    "def numpy_subtract(arr1, arr2):\n",
    "    return(arr1 - arr2)\n",
    "    \n",
    "print(numpy_subtract(np.array([1,2,3]),np.array([5,6,7])))"
   ]
  },
  {
   "cell_type": "code",
   "execution_count": 9,
   "metadata": {
    "collapsed": false
   },
   "outputs": [
    {
     "name": "stdout",
     "output_type": "stream",
     "text": [
      "[6 2] - [1 1] = [5 1]\n"
     ]
    },
    {
     "data": {
      "image/png": "[encoded data removed]",
      "text/plain": [
       "<matplotlib.figure.Figure at 0x1d2a2c35fd0>"
      ]
     },
     "metadata": {},
     "output_type": "display_data"
    }
   ],
   "source": [
    "arr1 = np.array([6,2])\n",
    "arr2 = np.array([1,1])\n",
    "arrSum = arr1-arr2\n",
    "print(arr1,\"-\",arr2,\"=\",arrSum)\n",
    "\n",
    "plt.plot([0,arr1[0]], [0,arr1[1]], 'k-', color='b', lw=2, label=\"Vector 1\")\n",
    "plt.plot([arr1[0], arrSum[0]], [arr1[1],arrSum[1]], 'k-', color='r', lw=2, label=\"Vector 2\")\n",
    "plt.plot([0,arrSum[0]], [0,arrSum[1]], 'k-', color='g', lw=2, label=\"Vector Difference\")\n",
    "\n",
    "axes = plt.gca()\n",
    "ax = plt.axes()\n",
    "plt.legend(loc=2)\n",
    "plt.show()"
   ]
  },
  {
   "cell_type": "code",
   "execution_count": null,
   "metadata": {
    "collapsed": true
   },
   "outputs": [],
   "source": []
  },
  {
   "cell_type": "code",
   "execution_count": 10,
   "metadata": {
    "collapsed": false
   },
   "outputs": [
    {
     "name": "stdout",
     "output_type": "stream",
     "text": [
      "[6, 8, 10]\n"
     ]
    }
   ],
   "source": [
    "def vector_sum(vectors):\n",
    "    \"\"\"sums all corresponding elements\"\"\"\n",
    "    result = vectors[0] # start with the first vector\n",
    "    for vector in vectors[1:]: # then loop over the others\n",
    "        result = vector_add(result, vector) # and add them to the result\n",
    "    return result\n",
    "\n",
    "print(vector_sum([[1,2,3],[5,6,7]]))"
   ]
  },
  {
   "cell_type": "code",
   "execution_count": 11,
   "metadata": {
    "collapsed": false
   },
   "outputs": [
    {
     "name": "stdout",
     "output_type": "stream",
     "text": [
      "[ 6  8 10]\n"
     ]
    }
   ],
   "source": [
    "print(sum(np.array([[1,2,3],[5,6,7]])))"
   ]
  },
  {
   "cell_type": "code",
   "execution_count": 12,
   "metadata": {
    "collapsed": false
   },
   "outputs": [
    {
     "name": "stdout",
     "output_type": "stream",
     "text": [
      "[16 18 20 22 24]\n"
     ]
    }
   ],
   "source": [
    "vector1 = np.array([1,2,3,4,5])\n",
    "vector2 = np.array([15,16,17,18,19])\n",
    "\n",
    "print(sum((vector1,vector2)))"
   ]
  },
  {
   "cell_type": "code",
   "execution_count": null,
   "metadata": {
    "collapsed": true
   },
   "outputs": [],
   "source": []
  },
  {
   "cell_type": "code",
   "execution_count": 13,
   "metadata": {
    "collapsed": false
   },
   "outputs": [
    {
     "name": "stdout",
     "output_type": "stream",
     "text": [
      "[5, 10, 15]\n"
     ]
    }
   ],
   "source": [
    "def scalar_multiply(c, v):\n",
    "    \"\"\"c is a number, v is a vector\"\"\"\n",
    "    return [c * v_i for v_i in v]\n",
    "\n",
    "print(scalar_multiply(5,[1,2,3]))"
   ]
  },
  {
   "cell_type": "code",
   "execution_count": 14,
   "metadata": {
    "collapsed": false
   },
   "outputs": [
    {
     "name": "stdout",
     "output_type": "stream",
     "text": [
      "[ 5 10 15]\n"
     ]
    }
   ],
   "source": [
    "def numpy_scalar_multiply(c,v):\n",
    "    return(c * v)\n",
    "\n",
    "print(numpy_scalar_multiply(5,np.array([1,2,3])))"
   ]
  },
  {
   "cell_type": "code",
   "execution_count": 15,
   "metadata": {
    "collapsed": false
   },
   "outputs": [
    {
     "name": "stdout",
     "output_type": "stream",
     "text": [
      "[2 2] *  2 = [4 4]\n"
     ]
    },
    {
     "data": {
      "image/png": "[encoded data removed]",
      "text/plain": [
       "<matplotlib.figure.Figure at 0x1d2a2cee6d8>"
      ]
     },
     "metadata": {},
     "output_type": "display_data"
    }
   ],
   "source": [
    "arr1 = np.array([2,2])\n",
    "\n",
    "arrSum = arr1*2\n",
    "print(arr1,\"* \",2,\"=\",arrSum)\n",
    "\n",
    "\n",
    "plt.plot([0,arrSum[0]], [0,arrSum[1]], 'k-', color='g', lw=2, label=\"Vector 1 * 2\")\n",
    "plt.plot([0,arr1[0]], [0,arr1[1]], 'k-', color='b', lw=2, label=\"Vector 1\")\n",
    "\n",
    "axes = plt.gca()\n",
    "axes.set_xlim([0,5])\n",
    "axes.set_ylim([0,5])\n",
    "\n",
    "plt.legend(loc=2)\n",
    "plt.show()"
   ]
  },
  {
   "cell_type": "code",
   "execution_count": null,
   "metadata": {
    "collapsed": true
   },
   "outputs": [],
   "source": []
  },
  {
   "cell_type": "code",
   "execution_count": 16,
   "metadata": {
    "collapsed": false
   },
   "outputs": [
    {
     "name": "stdout",
     "output_type": "stream",
     "text": [
      "[3.0, 4.0, 5.0]\n"
     ]
    }
   ],
   "source": [
    "def vector_mean(vectors):\n",
    "    \"\"\"compute the vector whose ith element is the mean of the\n",
    "    ith elements of the input vectors\"\"\"\n",
    "    n = len(vectors)\n",
    "    return scalar_multiply(1/n, vector_sum(vectors))\n",
    "\n",
    "print(vector_mean([[1,2,3],[5,6,7]]))"
   ]
  },
  {
   "cell_type": "code",
   "execution_count": 17,
   "metadata": {
    "collapsed": false
   },
   "outputs": [
    {
     "name": "stdout",
     "output_type": "stream",
     "text": [
      "[ 3.  4.  5.]\n"
     ]
    }
   ],
   "source": [
    "def numpy_mean(vectors):\n",
    "    return np.mean(vectors,axis=0)\n",
    "\n",
    "print(numpy_mean(np.array([[1,2,3],[5,6,7]])))"
   ]
  },
  {
   "cell_type": "code",
   "execution_count": null,
   "metadata": {
    "collapsed": true
   },
   "outputs": [],
   "source": []
  },
  {
   "cell_type": "code",
   "execution_count": 18,
   "metadata": {
    "collapsed": false
   },
   "outputs": [
    {
     "name": "stdout",
     "output_type": "stream",
     "text": [
      "38\n"
     ]
    }
   ],
   "source": [
    "def dot(v, w):\n",
    "    \"\"\"v_1 * w_1 + ... + v_n * w_n\"\"\"\n",
    "    return sum(v_i * w_i\n",
    "                for v_i, w_i in zip(v, w))\n",
    "\n",
    "print(dot([1,2,3],[5,6,7]))"
   ]
  },
  {
   "cell_type": "code",
   "execution_count": 19,
   "metadata": {
    "collapsed": false
   },
   "outputs": [
    {
     "name": "stdout",
     "output_type": "stream",
     "text": [
      "38\n"
     ]
    }
   ],
   "source": [
    "def numpy_dot(v, w):\n",
    "    return np.dot(v,w)\n",
    "\n",
    "print(numpy_dot(np.array([1,2,3]),np.array([5,6,7])))"
   ]
  },
  {
   "cell_type": "code",
   "execution_count": null,
   "metadata": {
    "collapsed": true
   },
   "outputs": [],
   "source": []
  },
  {
   "cell_type": "code",
   "execution_count": 20,
   "metadata": {
    "collapsed": false
   },
   "outputs": [
    {
     "name": "stdout",
     "output_type": "stream",
     "text": [
      "Sum of Squares [1, 2, 3] = 14\n"
     ]
    }
   ],
   "source": [
    "def sum_of_squares(v):\n",
    "    \"\"\"v_1 * v_1 + ... + v_n * v_n\"\"\"\n",
    "    return dot(v, v)\n",
    "\n",
    "arr1 = [1,2,3]\n",
    "print(\"Sum of Squares\", arr1, \"=\", sum_of_squares(arr1))"
   ]
  },
  {
   "cell_type": "code",
   "execution_count": 21,
   "metadata": {
    "collapsed": false
   },
   "outputs": [
    {
     "name": "stdout",
     "output_type": "stream",
     "text": [
      "Sum of Squares [1 2 3] = 14\n"
     ]
    }
   ],
   "source": [
    "def numpy_sum_of_squares(v):\n",
    "    return np.dot(v,v)\n",
    "\n",
    "arr1 = np.array([1,2,3])\n",
    "print(\"Sum of Squares\", arr1, \"=\", numpy_sum_of_squares(arr1))"
   ]
  },
  {
   "cell_type": "code",
   "execution_count": null,
   "metadata": {
    "collapsed": true
   },
   "outputs": [],
   "source": []
  },
  {
   "cell_type": "code",
   "execution_count": 22,
   "metadata": {
    "collapsed": false
   },
   "outputs": [
    {
     "name": "stdout",
     "output_type": "stream",
     "text": [
      "Magnitude [1, 2, 3] = 3.7416573867739413\n"
     ]
    }
   ],
   "source": [
    "def magnitude(v):\n",
    "    return math.sqrt(sum_of_squares(v)) # math.sqrt is square root function\n",
    "\n",
    "arr1 = [1,2,3]\n",
    "print(\"Magnitude\", arr1, \"=\", magnitude(arr1))"
   ]
  },
  {
   "cell_type": "code",
   "execution_count": 23,
   "metadata": {
    "collapsed": false
   },
   "outputs": [
    {
     "name": "stdout",
     "output_type": "stream",
     "text": [
      "NumPy Magnitude [1 2 3] = 3.7416573867739413\n"
     ]
    }
   ],
   "source": [
    "def numpy_magnitude(v):\n",
    "    return math.sqrt(np.dot(v,v)) # math.sqrt is square root function\n",
    "\n",
    "arr1 = np.array([1,2,3])\n",
    "print(\"NumPy Magnitude\", arr1, \"=\", magnitude(arr1))"
   ]
  },
  {
   "cell_type": "code",
   "execution_count": null,
   "metadata": {
    "collapsed": true
   },
   "outputs": [],
   "source": []
  },
  {
   "cell_type": "code",
   "execution_count": 24,
   "metadata": {
    "collapsed": false
   },
   "outputs": [
    {
     "name": "stdout",
     "output_type": "stream",
     "text": [
      "Squared Distance [1, 2, 3] [5, 6, 7] = 48\n"
     ]
    }
   ],
   "source": [
    "def squared_distance(v, w):\n",
    "    \"\"\"(v_1 - w_1) ** 2 + ... + (v_n - w_n) ** 2\"\"\"\n",
    "    return sum_of_squares(vector_subtract(v, w))\n",
    "\n",
    "arr1 = [1,2,3]\n",
    "arr2 = [5,6,7]\n",
    "print(\"Squared Distance\", arr1, arr2, \"=\", squared_distance(arr1,arr2))"
   ]
  },
  {
   "cell_type": "code",
   "execution_count": 28,
   "metadata": {
    "collapsed": false
   },
   "outputs": [
    {
     "name": "stdout",
     "output_type": "stream",
     "text": [
      "NumPy Squared Distance [1 2 3] [5 6 7] = 48\n"
     ]
    }
   ],
   "source": [
    "def numpy_squared_distance(v, w):\n",
    "    return numpy_sum_of_squares(numpy_subtract(v, w))\n",
    "\n",
    "arr1 = np.array([1,2,3])\n",
    "arr2 = np.array([5,6,7])\n",
    "print(\"NumPy Squared Distance\", arr1, arr2, \"=\", squared_distance(arr1,arr2))"
   ]
  },
  {
   "cell_type": "code",
   "execution_count": null,
   "metadata": {
    "collapsed": true
   },
   "outputs": [],
   "source": []
  },
  {
   "cell_type": "code",
   "execution_count": 26,
   "metadata": {
    "collapsed": false
   },
   "outputs": [
    {
     "name": "stdout",
     "output_type": "stream",
     "text": [
      "Distance [1, 2, 3] [5, 6, 7] = 6.928203230275509\n"
     ]
    }
   ],
   "source": [
    "def distance(v, w):\n",
    "    return math.sqrt(squared_distance(v, w))\n",
    "\n",
    "arr1 = [1,2,3]\n",
    "arr2 = [5,6,7]\n",
    "print(\"Distance\", arr1, arr2, \"=\", distance(arr1,arr2))"
   ]
  },
  {
   "cell_type": "code",
   "execution_count": 29,
   "metadata": {
    "collapsed": false
   },
   "outputs": [
    {
     "name": "stdout",
     "output_type": "stream",
     "text": [
      "NumPy Squared Distance [1 2 3] [5 6 7] = 6.928203230275509\n"
     ]
    }
   ],
   "source": [
    "def numpy_distance(v, w):\n",
    "    return math.sqrt(numpy_squared_distance(v, w))\n",
    "\n",
    "arr1 = np.array([1,2,3])\n",
    "arr2 = np.array([5,6,7])\n",
    "print(\"NumPy Squared Distance\", arr1, arr2, \"=\", numpy_distance(arr1,arr2))"
   ]
  },
  {
   "cell_type": "code",
   "execution_count": null,
   "metadata": {
    "collapsed": true
   },
   "outputs": [],
   "source": []
  },
  {
   "cell_type": "markdown",
   "metadata": {},
   "source": [
    "### Matrices"
   ]
  },
  {
   "cell_type": "code",
   "execution_count": 40,
   "metadata": {
    "collapsed": false
   },
   "outputs": [
    {
     "name": "stdout",
     "output_type": "stream",
     "text": [
      "A = [[1, 2, 3], [4, 5, 6]]\n",
      "B = [[1, 2], [3, 4], [5, 6]]\n"
     ]
    }
   ],
   "source": [
    "A = [[1, 2, 3], # A has 2 rows and 3 columns\n",
    "    [4, 5, 6]]\n",
    "B = [[1, 2], # B has 3 rows and 2 columns\n",
    "    [3, 4],\n",
    "    [5, 6]]\n",
    "\n",
    "print(\"A =\", A)\n",
    "print(\"B =\",B)"
   ]
  },
  {
   "cell_type": "code",
   "execution_count": 41,
   "metadata": {
    "collapsed": false
   },
   "outputs": [
    {
     "name": "stdout",
     "output_type": "stream",
     "text": [
      "A =\n",
      " [[1, 2, 3], [4, 5, 6]]\n",
      "B =\n",
      " [[1, 2], [3, 4], [5, 6]]\n"
     ]
    }
   ],
   "source": [
    "NP_A = np.array([[1, 2, 3], # A has 2 rows and 3 columns\n",
    "            [4, 5, 6]])\n",
    "NP_B = np.array([[1, 2], # B has 3 rows and 2 columns\n",
    "            [3, 4],\n",
    "            [5, 6]])\n",
    "\n",
    "print(\"A =\\n\", A)\n",
    "print(\"B =\\n\",B)"
   ]
  },
  {
   "cell_type": "code",
   "execution_count": null,
   "metadata": {
    "collapsed": true
   },
   "outputs": [],
   "source": []
  },
  {
   "cell_type": "code",
   "execution_count": 42,
   "metadata": {
    "collapsed": false
   },
   "outputs": [
    {
     "name": "stdout",
     "output_type": "stream",
     "text": [
      "(2, 3)\n"
     ]
    }
   ],
   "source": [
    "def shape(A):\n",
    "    num_rows = len(A)\n",
    "    num_cols = len(A[0]) if num_rows else 0 # number of elements in first row\n",
    "    return num_rows, num_cols\n",
    "\n",
    "print(shape(A))"
   ]
  },
  {
   "cell_type": "code",
   "execution_count": 48,
   "metadata": {
    "collapsed": false
   },
   "outputs": [
    {
     "name": "stdout",
     "output_type": "stream",
     "text": [
      "(2, 3)\n"
     ]
    }
   ],
   "source": [
    "def numpy_shape(A):\n",
    "    return np.shape(A)\n",
    "\n",
    "print(numpy_shape(NP_A))"
   ]
  },
  {
   "cell_type": "code",
   "execution_count": null,
   "metadata": {
    "collapsed": true
   },
   "outputs": [],
   "source": []
  },
  {
   "cell_type": "code",
   "execution_count": 47,
   "metadata": {
    "collapsed": false
   },
   "outputs": [
    {
     "name": "stdout",
     "output_type": "stream",
     "text": [
      "[4, 5, 6]\n",
      "[2, 5]\n"
     ]
    }
   ],
   "source": [
    "def get_row(A, i):\n",
    "    return A[i] # A[i] is already the ith row\n",
    "\n",
    "def get_column(A, j):\n",
    "    return [A_i[j] # jth element of row A_i\n",
    "            for A_i in A] # for each row A_i\n",
    "\n",
    "print(get_row(A,1))\n",
    "print(get_column(A,1))"
   ]
  },
  {
   "cell_type": "code",
   "execution_count": 49,
   "metadata": {
    "collapsed": false
   },
   "outputs": [
    {
     "name": "stdout",
     "output_type": "stream",
     "text": [
      "[4 5 6]\n",
      "[2 5]\n"
     ]
    }
   ],
   "source": [
    "def numpy_get_row(A, i):\n",
    "    return A[i]\n",
    "\n",
    "def numpy_get_column(A, j):\n",
    "    return A[:,j]\n",
    "\n",
    "print(numpy_get_row(NP_A,1))\n",
    "print(numpy_get_column(NP_A,1))"
   ]
  },
  {
   "cell_type": "code",
   "execution_count": null,
   "metadata": {
    "collapsed": true
   },
   "outputs": [],
   "source": []
  },
  {
   "cell_type": "code",
   "execution_count": 52,
   "metadata": {
    "collapsed": false
   },
   "outputs": [
    {
     "name": "stdout",
     "output_type": "stream",
     "text": [
      "[[1, 0, 0, 0, 0], [0, 1, 0, 0, 0], [0, 0, 1, 0, 0], [0, 0, 0, 1, 0], [0, 0, 0, 0, 1]]\n"
     ]
    }
   ],
   "source": [
    "def make_matrix(num_rows, num_cols, entry_fn):\n",
    "    \"\"\"returns a num_rows x num_cols matrix\n",
    "    whose (i,j)th entry is entry_fn(i, j)\"\"\"\n",
    "    return [[entry_fn(i, j) # given i, create a list\n",
    "    for j in range(num_cols)] # [entry_fn(i, 0), ... ]\n",
    "    for i in range(num_rows)] # create one list for each i\n",
    "\n",
    "def is_diagonal(i, j):\n",
    "    \"\"\"1's on the 'diagonal', 0's everywhere else\"\"\"\n",
    "    return 1 if i == j else 0\n",
    "\n",
    "identity_matrix = make_matrix(5, 5, is_diagonal)\n",
    "print(identity_matrix)"
   ]
  },
  {
   "cell_type": "code",
   "execution_count": 53,
   "metadata": {
    "collapsed": false
   },
   "outputs": [
    {
     "name": "stdout",
     "output_type": "stream",
     "text": [
      "[[ 1.  0.  0.  0.  0.]\n",
      " [ 0.  1.  0.  0.  0.]\n",
      " [ 0.  0.  1.  0.  0.]\n",
      " [ 0.  0.  0.  1.  0.]\n",
      " [ 0.  0.  0.  0.  1.]]\n"
     ]
    }
   ],
   "source": [
    "print(np.identity(5))"
   ]
  },
  {
   "cell_type": "code",
   "execution_count": null,
   "metadata": {
    "collapsed": true
   },
   "outputs": [],
   "source": []
  },
  {
   "cell_type": "code",
   "execution_count": 62,
   "metadata": {
    "collapsed": false
   },
   "outputs": [
    {
     "name": "stdout",
     "output_type": "stream",
     "text": [
      "True\n",
      "False\n",
      "[4, 6, 7]\n"
     ]
    }
   ],
   "source": [
    "friendships = np.array([(0, 1), (0, 2), (1, 2), (1, 3), (2, 3), (3, 4),\n",
    "                        (4, 5), (5, 6), (5, 7), (6, 8), (7, 8), (8, 9)])\n",
    "\n",
    "friendships2 = np.array([[0, 1, 1, 0, 0, 0, 0, 0, 0, 0], # user 0\n",
    "                        [1, 0, 1, 1, 0, 0, 0, 0, 0, 0], # user 1\n",
    "                        [1, 1, 0, 1, 0, 0, 0, 0, 0, 0], # user 2\n",
    "                        [0, 1, 1, 0, 1, 0, 0, 0, 0, 0], # user 3\n",
    "                        [0, 0, 0, 1, 0, 1, 0, 0, 0, 0], # user 4\n",
    "                        [0, 0, 0, 0, 1, 0, 1, 1, 0, 0], # user 5\n",
    "                        [0, 0, 0, 0, 0, 1, 0, 0, 1, 0], # user 6\n",
    "                        [0, 0, 0, 0, 0, 1, 0, 0, 1, 0], # user 7\n",
    "                        [0, 0, 0, 0, 0, 0, 1, 1, 0, 1], # user 8\n",
    "                        [0, 0, 0, 0, 0, 0, 0, 0, 1, 0]]) # user 9\n",
    "\n",
    "print(friendships2[0][2] == 1) # True, 0 and 2 are friends\n",
    "print(friendships2[0][8] == 1) # False, 0 and 8 are not friends\n",
    "\n",
    "friends_of_five = [i # only need\n",
    "                for i, is_friend in enumerate(friendships2[5]) # to look at\n",
    "                if is_friend] # one row\n",
    "print(friends_of_five)"
   ]
  },
  {
   "cell_type": "code",
   "execution_count": null,
   "metadata": {
    "collapsed": true
   },
   "outputs": [],
   "source": []
  }
 ],
 "metadata": {
  "kernelspec": {
   "display_name": "Python [Root]",
   "language": "python",
   "name": "Python [Root]"
  },
  "language_info": {
   "codemirror_mode": {
    "name": "ipython",
    "version": 3
   },
   "file_extension": ".py",
   "mimetype": "text/x-python",
   "name": "python",
   "nbconvert_exporter": "python",
   "pygments_lexer": "ipython3",
   "version": "3.5.2"
  }
 },
 "nbformat": 4,
 "nbformat_minor": 0
}
