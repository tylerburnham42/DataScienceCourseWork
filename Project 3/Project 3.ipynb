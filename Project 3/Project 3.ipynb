{
 "cells": [
  {
   "cell_type": "code",
   "execution_count": 24,
   "metadata": {
    "collapsed": true
   },
   "outputs": [],
   "source": [
    "import numpy as np\n",
    "import matplotlib.pyplot as plt\n",
    "import pandas as pd\n",
    "import collections\n",
    "import random\n",
    "import math\n",
    "%matplotlib inline "
   ]
  },
  {
   "cell_type": "code",
   "execution_count": 2,
   "metadata": {
    "collapsed": false
   },
   "outputs": [],
   "source": [
    "num_friends = [random.randint(0,100) for r in range(1000)]\n",
    "daily_minutes = [random.randint(0,120) for r in range(1000)]"
   ]
  },
  {
   "cell_type": "code",
   "execution_count": 32,
   "metadata": {
    "collapsed": false
   },
   "outputs": [
    {
     "name": "stdout",
     "output_type": "stream",
     "text": [
      "['Henri', 'Kimari', 'Deonte', 'Catherine', 'Kaden', 'Edwin', 'Larry', 'Jacqueline', 'Leo', 'Jalisa', 'Enya', 'Karon', 'Yahaira', 'Teena', 'Myra', 'Briley', 'Knox', 'Pierce', 'Vincent', 'Mario', 'Astrid', 'Rayna', 'Lillie', 'Latisha', 'Prince', 'Yamileth', 'Sharion', 'Deidra', 'Wesley', 'Madden', 'Ronny', 'Jordan', 'Sam', 'Jean', 'Alfred', 'Tanisha', 'Cherry', 'Shirley', 'Alonzo', 'Alexander', 'Sonny', 'Shania', 'Lucky', 'Ambrose', 'Estefania', 'Amayah', 'Mavis', 'Katie', 'Trina', 'Yaretzi', 'Navya', 'Sidney', 'Kendarius', 'Tamiya', 'Ebony', 'Julia', 'Lula', 'Brooklynn', 'Felix', 'John', 'Hugh', 'Flora', 'Madilynn', 'Williams', 'Glenn', 'Rodrigo', 'Stephanie', 'Liberty', 'Fletcher', 'Ahmad', 'Catherine', 'Phillip', 'Marin', 'Jeffrey', 'Gabriel', 'Ezekiel', 'Lonnie', 'Millie', 'Christian', 'Karon', 'Sierra', 'Lucretia', 'Dawn', 'Reggie', 'Joey', 'Felix', 'Henry', 'Thomas', 'Micaela', 'Cari', 'Everlena', 'Hunter', 'Ansley', 'Keily', 'Destinee', 'Carey', 'Zariah', 'Evangeline', 'Tabatha', 'Delorise', 'Mattie', 'George', 'Robbie', 'Lilie', 'Brittney', 'Holly', 'Leeah', 'Farris', 'Wallace', 'Donovan', 'Charlotte', 'Holly', 'Kathleen', 'Josie', 'Neil', 'Jaeden', 'Abigayle', 'Bob', 'Lesia', 'Sherita', 'Tyrone', 'Delia', 'Clifton', 'Lisa', 'Shakira', 'Sabrina', 'Chaz', 'Kaniya', 'Evin', 'Wendell', 'Lonzie', 'Mable', 'Jasper', 'Barbara', 'Kandice', 'Mareli', 'Dusty', 'Destinie', 'Pat', 'Martez', 'Jasper', 'Pat', 'Winfred', 'Jesse', 'Harley', 'Gabriele', 'Kelsey', 'Earlene', 'Timothy', 'Mikaela', 'Raegan', 'Valeria', 'Ida', 'Delmer', 'Charlie', 'Yadira', 'Jadiel', 'Curtis', 'Essence', 'Stephon', 'Jacqueline', 'Florine', 'Soraya', 'Carroll', 'Truett', 'Reece', 'Caylin', 'Kailee', 'Randolph', 'Victoria', 'Sheryl', 'Wesley', 'Amos', 'Jorden', 'Madalyn', 'Teri', 'Lauryn', 'Danielle', 'Andre', 'Kennedy', 'Jeanne', 'George', 'Gussie', 'Leslie', 'Laura', 'Jeremiah', 'Classie', 'Jefferson', 'Curtis', 'Terrence', 'Stevie', 'Crawford', 'Maylin', 'Jacklyn', 'Charleen', 'Riley', 'Elian', 'Davonte', 'Felisha', 'Regina', 'Dora', 'Deshon', 'Dallas', 'Madelyn', 'Suzanne', 'Mae', 'Jakobe', 'Edwina', 'Bennie', 'Christi', 'Reynaldo', 'Tyrese', 'Dwight', 'Nehemiah', 'Leslie', 'Alphonso', 'Daphne', 'Israel', 'Keshaun', 'Sheila', 'Deana', 'Harmonie', 'Avery', 'Alice', 'Ryan', 'Arletha', 'Dannie', 'Olive', 'Weldon', 'Emely', 'Roderick', 'Kelsey', 'Williams', 'Carmen', 'Gwendolyn', 'Samya', 'Mable', 'Floyd', 'Lindsey', 'Erica', 'Lee', 'Yvonne', 'Joesph', 'Jonas', 'Dwayne', 'Forrest', 'Marsha', 'Sheron', 'Araceli', 'Loren', 'Jakeria', 'Tamera', 'Jaleah', 'Kent', 'Betty', 'Regina', 'Mark', 'Lara', 'Carla', 'Christopher', 'Branden', 'Stacia', 'Heather', 'Edwin', 'Alexa', 'Alexander', 'Garrick', 'Adam', 'Willene', 'Bryleigh', 'Carolina', 'Evelyn', 'Niya', 'Jean', 'Dessie', 'Arsh', 'Alexys', 'Lonnie', 'Shanetta', 'Veronica', 'Ellianna', 'Bernice', 'Tyrone', 'Frankie', 'Erika', 'Sheldon', 'Marco', 'Jasper', 'Amanda', 'Walter', 'Darren', 'Casandra', 'Hailey', 'Hope', 'April', 'Joanna', 'Anitra', 'Dixie', 'Manuel', 'Brayden', 'Mavis', 'Phoebe', 'Xavier', 'Shamira', 'Adelaide', 'Markel', 'Antavius', 'Debi', 'Deven', 'Andrew', 'Karsyn', 'Allison', 'Joshua', 'Jaylen', 'Elma', 'Reva', 'Darrius', 'Keeley', 'Danny', 'Simon', 'Cari', 'Chloe', 'Simon', 'Octavio', 'Xavier', 'Davon', 'Cesar', 'Everett', 'Charlie', 'Kaleb', 'Ivory', 'Vera', 'Craig', 'Maddox', 'Prentice', 'Grace', 'Herman', 'Olin', 'Tonia', 'Howard', 'Landyn', 'Muriel', 'Emory', 'Wendell', 'Kris', 'Bradford', 'Betty', 'Wava', 'Barney', 'Koda', 'Kristine', 'Carole', 'Pilar', 'Louvenia', 'Omarion', 'Mollie', 'Jannie', 'Adrianne', 'Porter', 'Brant', 'Coty', 'Jamil', 'Bruce', 'Nancy', 'Marty', 'Meaghan', 'Early', 'Benny', 'Nia', 'Wendy', 'Yasmine', 'Alphonso', 'Cristofer', 'Estrella', 'Issac', 'Robert', 'Eleanor', 'Daija', 'Elias', 'Hildred', 'Kyler', 'Quintin', 'Lowell', 'Connie', 'Ryan', 'Tom', 'Cruz', 'Mary', 'Natasha', 'Jacob', 'Sadie', 'Roy', 'Mark', 'Kyla', 'Britain', 'Lucille', 'Oliver', 'Laurel', 'Janet', 'Elgin', 'Kennith', 'Renee', 'Myra', 'Wallace', 'Wanda', 'Ramiyah', 'Haylee', 'Malcom', 'Meagan', 'Irene', 'Duane', 'Cicero', 'Cary', 'Johnie', 'Dorsey', 'Demi', 'Brooks', 'Darrien', 'Deidra', 'Fatima', 'Elwood', 'Candis', 'Pinkie', 'Adrienne', 'Dangelo', 'Kinsey', 'Summer', 'Christiana', 'Adan', 'Carmen', 'Amy', 'Carly', 'Alvin', 'Welton', 'Jenny', 'Yahaira', 'Winona', 'Iverson', 'Arrie', 'Bishop', 'Dolly', 'Jessie', 'Lee', 'Morgan', 'Briseida', 'Alfred', 'Zelma', 'Stephen', 'Hector', 'Knox', 'Keegan', 'Felecia', 'Shreya', 'Johnna', 'Rosie', 'Lucinda', 'Presley', 'Lonnie', 'Owen', 'Janelle', 'Gerry', 'Terry', 'Damion', 'Robbie', 'Bennie', 'Elliott', 'Marc', 'Tony', 'Karen', 'Jerome', 'Anay', 'Judah', 'Sula', 'Grover', 'Constance', 'Rosevelt', 'Zachary', 'Anita', 'Anabella', 'Eddie', 'Morris', 'Ruben', 'Retha', 'Marcella', 'Chad', 'Royce', 'Elsie', 'Lavern', 'Farris', 'Walker', 'Weston', 'Brandan', 'Jalyn', 'Mitch', 'Nannie', 'Rashida', 'Sandra', 'Sandy', 'Brandie', 'Solomon', 'Judy', 'Madyson', 'Flora', 'Westin', 'Marlene', 'Janette', 'Samatha', 'Makiyah', 'Skye', 'Jaylene', 'Carey', 'Belinda', 'Kirsten', 'Cecile', 'Sandy', 'Myrtle', 'Rosa', 'Zaine', 'Bobby', 'Adrianna', 'Phil', 'Molly', 'Clifton', 'Dannie', 'Rashad', 'Aline', 'Pierce', 'Sarai', 'Elayna', 'Cecilia', 'Hannah', 'Elnora', 'Clark', 'Sarah', 'Lorenzo', 'Alex', 'Waymon', 'Kensley', 'Talia', 'Rachel', 'Authur', 'Avah', 'Letitia', 'Racheal', 'Rudolph', 'Phil', 'Mario', 'Tatyana', 'Abigail', 'Warren', 'Frida', 'Lawson', 'Brock', 'Louis', 'Kallie', 'Florine', 'Aminah', 'Martha', 'Aretha', 'Carla', 'Mittie', 'Yasmine', 'Hershel', 'Scarlett', 'Araceli', 'Jana', 'Ashley', 'Derick', 'Alycia', 'Nelson', 'Mallory', 'Teresa', 'Donte', 'Courtney', 'Otis', 'Jerry', 'Luke', 'Deidra', 'Holley', 'Darius', 'Lucile', 'Ashton', 'Aziah', 'Ellen', 'Ruben', 'Cliff', 'George', 'Savion', 'Yamilet', 'Carsen', 'Ilana', 'Florene', 'Herbert', 'Laurie', 'Clemmie', 'Ginny', 'Ernest', 'Catherine', 'Louis', 'Rachel', 'Mozelle', 'Aubrey', 'Kiarra', 'Abner', 'Verdie', 'Devan', 'Susie', 'Mariah', 'Messiah', 'Lilliana', 'Sandra', 'Trenton', 'Yolonda', 'Jacorey', 'Velma', 'Maggie', 'Kendall', 'Sailor', 'Olivia', 'Jailene', 'Huey', 'Jerry', 'Ellen', 'Della', 'Charline', 'Emmalee', 'Nezzie', 'Kelsi', 'Sergio', 'Fatima', 'Eulene', 'Kimani', 'Berta', 'Latricia', 'Giovanna', 'Terence', 'Dashawn', 'Neal', 'Germaine', 'Janiyah', 'Jaila', 'Lorenza', 'Marlin', 'Abbie', 'Matteo', 'Jalisa', 'Lorraine', 'Bernard', 'Johnathon', 'Cole', 'Rosia', 'Mallorie', 'Shirley', 'Sammie', 'Quintavius', 'Malcolm', 'Tatiana', 'Deann', 'Deon', 'Anthony', 'Lester', 'Anne', 'Chanel', 'Abraham', 'Roger', 'Jeanette', 'Angela', 'Ola', 'Briona', 'Allyson', 'Johnny', 'Queen', 'Shirley', 'Darrell', 'Zanya', 'Kelly', 'Larry', 'Alexis', 'Ezequiel', 'Alexander', 'Juliette', 'Adrian', 'Zakeria', 'Jonnie', 'Elois', 'Gillian', 'Sanford', 'Cullen', 'Lenard', 'Rena', 'Charlie', 'Lelia', 'Ulyses', 'Danny', 'Crystal', 'Kendal', 'Blane', 'Marlene', 'Garland', 'Shelby', 'Lorena', 'Royal', 'Lea', 'Emmett', 'Eileen', 'Rebecca', 'Amore', 'Sallie', 'Sharon', 'Luciana', 'Washington', 'Clarence', 'Laurence', 'Deidra', 'Nataly', 'Keonna', 'Joanne', 'Lester', 'Charlene', 'Louise', 'Jodie', 'Maxwell', 'Lorrie', 'Derick', 'Matthew', 'Adalyn', 'Clifford', 'Ray', 'Stevie', 'Jodie', 'Elian', 'Sylvester', 'Pearline', 'Shenna', 'Adrian', 'Sondra', 'Fred', 'Sadie', 'Anijah', 'Louis', 'Jeshua', 'Mariela', 'Roosevelt', 'Carl', 'Annabeth', 'Apollo', 'Gene', 'Matthew', 'Kristi', 'Jabria', 'Karl', 'Kristina', 'Doretha', 'Anitra', 'Becky', 'Leland', 'Marissa', 'Antonio', 'Grant', 'Gracee', 'Eula', 'Will', 'Melinda', 'Felton', 'Marc', 'Hezekiah', 'Abigail', 'Larry', 'Joe', 'Keaton', 'Jimmie', 'Jamare', 'Zykeria', 'Marshall', 'Jessa', 'Kadijah', 'Willis', 'Bert', 'Joanne', 'Dasha', 'Ladonna', 'Kelsie', 'Clayton', 'Teressa', 'Ester', 'Kirby', 'Kara', 'Cleo', 'Lacey', 'Melody', 'Deron', 'Tre', 'Amiya', 'Felipe', 'Pearlie', 'Jacqueline', 'Nelson', 'Angel', 'Pedro', 'Desiree', 'Carey', 'Taegan', 'Jaelyn', 'Reginald', 'Abbie', 'Makhi', 'Dixie', 'Cherrie', 'Jefferson', 'Frank', 'Duncan', 'Nan', 'Maximilian', 'Harriette', 'Francis', 'Chester', 'Chanel', 'Marguerite', 'Markita', 'Tommie', 'Dani', 'Mamie', 'Kinslee', 'Simon', 'Ximena', 'Jayla', 'Logan', 'Frida', 'Marty', 'Tisha', 'Bennett', 'Oscar', 'Jessie', 'Semaj', 'Madyson', 'Claudia', 'Clementine', 'Terry', 'Jamal', 'Lewis', 'Trista', 'Jimmie', 'Elle', 'Tamika', 'Matilda', 'Tracey', 'Destinee', 'Keila', 'Jeanne', 'Devin', 'Eli', 'Fernando', 'Adah', 'Kelly', 'Lili', 'Ashley', 'Xzavier', 'Princess', 'Martha', 'Waylon', 'Meah', 'Jeslyn', 'Ryan', 'Mark', 'Riley', 'Mara', 'Deven', 'Foster', 'Clark', 'Shirley', 'Erick', 'Truman', 'Lori', 'Bernice', 'Demond', 'Peyton', 'Gladys', 'Greta', 'Jania', 'Mickey', 'Roxanne', 'Miriam', 'Hattie', 'Mara', 'Sherina', 'Zaire', 'Albert', 'Roosevelt', 'Kentavious', 'Rosalyn', 'Shauntia', 'Chloe', 'Jasmine', 'Alex', 'Amelia', 'Shamya', 'Faye', 'Savannah', 'Devon', 'Lee', 'Catherine', 'Carol', 'Henry', 'Caelyn', 'Lonnie', 'Terron', 'Leo', 'Calandra', 'Dorothy', 'Doreen', 'Homer', 'Demond', 'Tristan', 'Meadow', 'Dollie', 'Ethan', 'Daphne', 'Lawton', 'Scott', 'Tia', 'Tequila', 'Sterling', 'Phoebe', 'Haiden', 'Brett', 'Callie', 'Lee', 'Jalissa', 'Marion', 'Deborah', 'Dollie', 'Jacorey', 'Jamey', 'Stephanie', 'Florence', 'Dylan', 'Blake', 'Willie', 'Tabitha', 'Knox', 'Milton', 'Robin', 'Kelvin', 'Sylvester', 'Dan', 'Tommie', 'Sybil', 'Kaylie', 'Dawn', 'Chandra', 'Glynis', 'Dean', 'Antoinette', 'Paul', 'Ariana', 'Alton', 'Jonah', 'Letha', 'Killian', 'Everleigh', 'Virgil', 'Christine', 'Osman', 'Herman', 'Mattie', 'Carson', 'Francis', 'Lessie', 'Vivian', 'Weyman', 'Sammy', 'Francis', 'Sanford', 'Ima', 'Doyle', 'Kamren', 'Bobbie', 'Gilda', 'Shalonda', 'Donny', 'Dorthy', 'Otto', 'Emmy', 'Tasha', 'Adnan', 'Fletcher', 'Wilton', 'Lester', 'Leon', 'Misha', 'Carson', 'Quintin', 'Otis', 'Nina', 'Derrick', 'Ginger', 'Addie', 'Miranda', 'Levi', 'Itzel']\n"
     ]
    }
   ],
   "source": [
    "names = df = pd.read_csv(\"ga_baby_names.csv\")\n",
    "name_list = list(names.sample(1000).Name)\n",
    "print(name_list)"
   ]
  },
  {
   "cell_type": "code",
   "execution_count": 35,
   "metadata": {
    "collapsed": false
   },
   "outputs": [
    {
     "data": {
      "text/html": [
       "<div>\n",
       "<table border=\"1\" class=\"dataframe\">\n",
       "  <thead>\n",
       "    <tr style=\"text-align: right;\">\n",
       "      <th></th>\n",
       "      <th>Names</th>\n",
       "      <th>Friends</th>\n",
       "      <th>Minutes</th>\n",
       "    </tr>\n",
       "  </thead>\n",
       "  <tbody>\n",
       "    <tr>\n",
       "      <th>0</th>\n",
       "      <td>Henri</td>\n",
       "      <td>35</td>\n",
       "      <td>30</td>\n",
       "    </tr>\n",
       "    <tr>\n",
       "      <th>1</th>\n",
       "      <td>Kimari</td>\n",
       "      <td>5</td>\n",
       "      <td>16</td>\n",
       "    </tr>\n",
       "    <tr>\n",
       "      <th>2</th>\n",
       "      <td>Deonte</td>\n",
       "      <td>9</td>\n",
       "      <td>0</td>\n",
       "    </tr>\n",
       "    <tr>\n",
       "      <th>3</th>\n",
       "      <td>Catherine</td>\n",
       "      <td>51</td>\n",
       "      <td>34</td>\n",
       "    </tr>\n",
       "    <tr>\n",
       "      <th>4</th>\n",
       "      <td>Kaden</td>\n",
       "      <td>30</td>\n",
       "      <td>96</td>\n",
       "    </tr>\n",
       "    <tr>\n",
       "      <th>5</th>\n",
       "      <td>Edwin</td>\n",
       "      <td>63</td>\n",
       "      <td>81</td>\n",
       "    </tr>\n",
       "    <tr>\n",
       "      <th>6</th>\n",
       "      <td>Larry</td>\n",
       "      <td>57</td>\n",
       "      <td>100</td>\n",
       "    </tr>\n",
       "    <tr>\n",
       "      <th>7</th>\n",
       "      <td>Jacqueline</td>\n",
       "      <td>76</td>\n",
       "      <td>78</td>\n",
       "    </tr>\n",
       "    <tr>\n",
       "      <th>8</th>\n",
       "      <td>Leo</td>\n",
       "      <td>40</td>\n",
       "      <td>17</td>\n",
       "    </tr>\n",
       "    <tr>\n",
       "      <th>9</th>\n",
       "      <td>Jalisa</td>\n",
       "      <td>24</td>\n",
       "      <td>51</td>\n",
       "    </tr>\n",
       "  </tbody>\n",
       "</table>\n",
       "</div>"
      ],
      "text/plain": [
       "        Names  Friends  Minutes\n",
       "0       Henri       35       30\n",
       "1      Kimari        5       16\n",
       "2      Deonte        9        0\n",
       "3   Catherine       51       34\n",
       "4       Kaden       30       96\n",
       "5       Edwin       63       81\n",
       "6       Larry       57      100\n",
       "7  Jacqueline       76       78\n",
       "8         Leo       40       17\n",
       "9      Jalisa       24       51"
      ]
     },
     "execution_count": 35,
     "metadata": {},
     "output_type": "execute_result"
    }
   ],
   "source": [
    "df = pd.DataFrame(data = list(zip(name_list,num_friends,daily_minutes)), columns=['Names', 'Friends', 'Minutes'])\n",
    "df.head(10)"
   ]
  },
  {
   "cell_type": "markdown",
   "metadata": {},
   "source": [
    "### Plotting From the Book"
   ]
  },
  {
   "cell_type": "code",
   "execution_count": 3,
   "metadata": {
    "collapsed": false
   },
   "outputs": [
    {
     "data": {
      "image/png": "[encoded data removed]",
      "text/plain": [
       "<matplotlib.figure.Figure at 0x2193c1564a8>"
      ]
     },
     "metadata": {},
     "output_type": "display_data"
    }
   ],
   "source": [
    "friend_counts = collections.Counter(num_friends)\n",
    "xs = range(101) # largest value is 100\n",
    "ys = [friend_counts[x] for x in xs] # height is just # of friends\n",
    "plt.bar(xs, ys)\n",
    "plt.axis([0, 101, 0, 25])\n",
    "plt.title(\"Histogram of Friend Counts\")\n",
    "plt.xlabel(\"# of friends\")\n",
    "plt.ylabel(\"# of people\")\n",
    "plt.show()"
   ]
  },
  {
   "cell_type": "code",
   "execution_count": 4,
   "metadata": {
    "collapsed": false
   },
   "outputs": [
    {
     "data": {
      "image/png": "[encoded data removed]",
      "text/plain": [
       "<matplotlib.figure.Figure at 0x2193c3af2b0>"
      ]
     },
     "metadata": {},
     "output_type": "display_data"
    }
   ],
   "source": [
    "friend_counts = collections.Counter(daily_minutes)\n",
    "xs = range(121) # largest value is 100\n",
    "ys = [friend_counts[x] for x in xs] # height is just # of friends\n",
    "plt.bar(xs, ys)\n",
    "plt.axis([0, 121, 0, 20])\n",
    "plt.title(\"Num Of Daily Mins\")\n",
    "plt.xlabel(\"# of mins\")\n",
    "plt.ylabel(\"# of friends\")\n",
    "plt.show()"
   ]
  },
  {
   "cell_type": "markdown",
   "metadata": {},
   "source": [
    "### Plotting using Pandas"
   ]
  },
  {
   "cell_type": "code",
   "execution_count": 36,
   "metadata": {
    "collapsed": false
   },
   "outputs": [
    {
     "data": {
      "image/png": "[encoded data removed]",
      "text/plain": [
       "<matplotlib.figure.Figure at 0x2193a8915c0>"
      ]
     },
     "metadata": {},
     "output_type": "display_data"
    }
   ],
   "source": [
    "friend_counts = collections.Counter(df.Friends)\n",
    "xs = range(101) # largest value is 100\n",
    "ys = [friend_counts[x] for x in xs] # height is just # of friends\n",
    "plt.bar(xs, ys)\n",
    "plt.axis([0, 101, 0, 25])\n",
    "plt.title(\"Histogram of Friend Counts\")\n",
    "plt.xlabel(\"# of friends\")\n",
    "plt.ylabel(\"# of people\")\n",
    "plt.show()"
   ]
  },
  {
   "cell_type": "code",
   "execution_count": 37,
   "metadata": {
    "collapsed": false
   },
   "outputs": [
    {
     "data": {
      "image/png": "[encoded data removed]",
      "text/plain": [
       "<matplotlib.figure.Figure at 0x2193de78908>"
      ]
     },
     "metadata": {},
     "output_type": "display_data"
    }
   ],
   "source": [
    "friend_counts = collections.Counter(df.Minutes)\n",
    "xs = range(121) # largest value is 100\n",
    "ys = [friend_counts[x] for x in xs] # height is just # of friends\n",
    "plt.bar(xs, ys)\n",
    "plt.axis([0, 121, 0, 20])\n",
    "plt.title(\"Num Of Daily Mins\")\n",
    "plt.xlabel(\"# of mins\")\n",
    "plt.ylabel(\"# of friends\")\n",
    "plt.show()"
   ]
  },
  {
   "cell_type": "markdown",
   "metadata": {},
   "source": [
    "### Statistics from the book"
   ]
  },
  {
   "cell_type": "code",
   "execution_count": 5,
   "metadata": {
    "collapsed": false
   },
   "outputs": [
    {
     "name": "stdout",
     "output_type": "stream",
     "text": [
      "1000\n"
     ]
    }
   ],
   "source": [
    "num_points = len(num_friends)\n",
    "print(num_points)"
   ]
  },
  {
   "cell_type": "code",
   "execution_count": 6,
   "metadata": {
    "collapsed": false
   },
   "outputs": [
    {
     "name": "stdout",
     "output_type": "stream",
     "text": [
      "100\n",
      "0\n"
     ]
    }
   ],
   "source": [
    "largest_value = max(num_friends)\n",
    "smallest_value = min(num_friends)\n",
    "print(largest_value)\n",
    "print(smallest_value)"
   ]
  },
  {
   "cell_type": "code",
   "execution_count": 7,
   "metadata": {
    "collapsed": false
   },
   "outputs": [
    {
     "name": "stdout",
     "output_type": "stream",
     "text": [
      "0\n",
      "0\n",
      "100\n"
     ]
    }
   ],
   "source": [
    "sorted_values = sorted(num_friends)\n",
    "smallest_value = sorted_values[0]\n",
    "second_smallest_value = sorted_values[1]\n",
    "second_largest_value = sorted_values[-2]\n",
    "print(smallest_value)\n",
    "print(second_smallest_value)\n",
    "print(second_largest_value)"
   ]
  },
  {
   "cell_type": "code",
   "execution_count": 8,
   "metadata": {
    "collapsed": false
   },
   "outputs": [
    {
     "name": "stdout",
     "output_type": "stream",
     "text": [
      "51.0\n"
     ]
    }
   ],
   "source": [
    "def median(v):\n",
    "    \"\"\"finds the 'middle-most' value of v\"\"\"\n",
    "    n = len(v)\n",
    "    sorted_v = sorted(v)\n",
    "    midpoint = n // 2\n",
    "    if n % 2 == 1:\n",
    "        # if odd, return the middle value\n",
    "        return sorted_v[midpoint]\n",
    "    else:\n",
    "        # if even, return the average of the middle values\n",
    "        lo = midpoint - 1\n",
    "        hi = midpoint\n",
    "        return (sorted_v[lo] + sorted_v[hi]) / 2\n",
    "print(median(num_friends))"
   ]
  },
  {
   "cell_type": "code",
   "execution_count": 9,
   "metadata": {
    "collapsed": false
   },
   "outputs": [
    {
     "name": "stdout",
     "output_type": "stream",
     "text": [
      "10\n",
      "26\n",
      "74\n",
      "90\n"
     ]
    }
   ],
   "source": [
    "def quantile(x, p):\n",
    "    \"\"\"returns the pth-percentile value in x\"\"\"\n",
    "    p_index = int(p * len(x))\n",
    "    return sorted(x)[p_index]\n",
    "\n",
    "print(quantile(num_friends, 0.10))\n",
    "print(quantile(num_friends, 0.25))\n",
    "print(quantile(num_friends, 0.75))\n",
    "print(quantile(num_friends, 0.90))"
   ]
  },
  {
   "cell_type": "code",
   "execution_count": 10,
   "metadata": {
    "collapsed": false
   },
   "outputs": [
    {
     "name": "stdout",
     "output_type": "stream",
     "text": [
      "[31, 34]\n"
     ]
    }
   ],
   "source": [
    "def mode(x):\n",
    "    \"\"\"returns a list, might be more than one mode\"\"\"\n",
    "    counts = collections.Counter(x)\n",
    "    max_count = max(counts.values())\n",
    "    return [x_i for x_i, count in counts.items()\n",
    "            if count == max_count]\n",
    "       \n",
    "print(mode(num_friends))"
   ]
  },
  {
   "cell_type": "code",
   "execution_count": 11,
   "metadata": {
    "collapsed": false
   },
   "outputs": [
    {
     "name": "stdout",
     "output_type": "stream",
     "text": [
      "100\n"
     ]
    }
   ],
   "source": [
    "# \"range\" already means something in Python, so we'll use a different name\n",
    "def data_range(x):\n",
    "    return max(x) - min(x)\n",
    "\n",
    "print(data_range(num_friends))"
   ]
  },
  {
   "cell_type": "code",
   "execution_count": 12,
   "metadata": {
    "collapsed": false
   },
   "outputs": [
    {
     "name": "stdout",
     "output_type": "stream",
     "text": [
      "826.8627627627629\n"
     ]
    }
   ],
   "source": [
    "def dot(v, w):\n",
    "    \"\"\"v_1 * w_1 + ... + v_n * w_n\"\"\"\n",
    "    return sum(v_i * w_i\n",
    "            for v_i, w_i in zip(v, w))\n",
    "\n",
    "def sum_of_squares(v):\n",
    "    \"\"\"v_1 * v_1 + ... + v_n * v_n\"\"\"\n",
    "    return dot(v, v)\n",
    "\n",
    "def de_mean(x):\n",
    "    \"\"\"translate x by subtracting its mean (so the result has mean 0)\"\"\"\n",
    "    x_bar = sum(x)/len(x)\n",
    "    return [x_i - x_bar for x_i in x]\n",
    "\n",
    "def variance(x):\n",
    "    \"\"\"assumes x has at least two elements\"\"\"\n",
    "    n = len(x)\n",
    "    deviations = de_mean(x)\n",
    "    return sum_of_squares(deviations) / (n - 1)\n",
    "\n",
    "print(variance(num_friends))"
   ]
  },
  {
   "cell_type": "code",
   "execution_count": 13,
   "metadata": {
    "collapsed": false
   },
   "outputs": [
    {
     "name": "stdout",
     "output_type": "stream",
     "text": [
      "28.755221486936296\n"
     ]
    }
   ],
   "source": [
    "def standard_deviation(x):\n",
    "    return math.sqrt(variance(x))\n",
    "\n",
    "print(standard_deviation(num_friends))"
   ]
  },
  {
   "cell_type": "code",
   "execution_count": 14,
   "metadata": {
    "collapsed": false
   },
   "outputs": [
    {
     "name": "stdout",
     "output_type": "stream",
     "text": [
      "48\n"
     ]
    }
   ],
   "source": [
    "def interquartile_range(x):\n",
    "    return quantile(x, 0.75) - quantile(x, 0.25)\n",
    "\n",
    "print(interquartile_range(num_friends))"
   ]
  },
  {
   "cell_type": "code",
   "execution_count": 15,
   "metadata": {
    "collapsed": false
   },
   "outputs": [
    {
     "name": "stdout",
     "output_type": "stream",
     "text": [
      "15.099159159159157\n"
     ]
    }
   ],
   "source": [
    "def covariance(x, y):\n",
    "    n = len(x)\n",
    "    return dot(de_mean(x), de_mean(y)) / (n - 1)\n",
    "\n",
    "print(covariance(num_friends, daily_minutes))"
   ]
  },
  {
   "cell_type": "code",
   "execution_count": 16,
   "metadata": {
    "collapsed": false
   },
   "outputs": [
    {
     "name": "stdout",
     "output_type": "stream",
     "text": [
      "0.014923387938226094\n"
     ]
    }
   ],
   "source": [
    "def correlation(x, y):\n",
    "    stdev_x = standard_deviation(x)\n",
    "    stdev_y = standard_deviation(y)\n",
    "    if stdev_x > 0 and stdev_y > 0:\n",
    "        return covariance(x, y) / stdev_x / stdev_y\n",
    "    else:\n",
    "        return 0 # if no variation, correlation is zero\n",
    "    \n",
    "print(correlation(num_friends, daily_minutes))"
   ]
  },
  {
   "cell_type": "code",
   "execution_count": 20,
   "metadata": {
    "collapsed": false
   },
   "outputs": [
    {
     "name": "stdout",
     "output_type": "stream",
     "text": [
      "0.014411930122820832\n"
     ]
    }
   ],
   "source": [
    "outlier = num_friends.index(100) # index of outlier\n",
    "num_friends_good = [x\n",
    "                for i, x in enumerate(num_friends)\n",
    "                    if i != outlier]\n",
    "\n",
    "daily_minutes_good = [x\n",
    "                for i, x in enumerate(daily_minutes)\n",
    "                    if i != outlier]\n",
    "\n",
    "print(correlation(num_friends_good, daily_minutes_good)) # 0.57"
   ]
  },
  {
   "cell_type": "markdown",
   "metadata": {},
   "source": [
    "### Statistics using Pandas"
   ]
  },
  {
   "cell_type": "code",
   "execution_count": 39,
   "metadata": {
    "collapsed": false
   },
   "outputs": [
    {
     "name": "stdout",
     "output_type": "stream",
     "text": [
      "1000\n"
     ]
    }
   ],
   "source": [
    "num_points = len(df)\n",
    "print(num_points)"
   ]
  },
  {
   "cell_type": "code",
   "execution_count": 40,
   "metadata": {
    "collapsed": false
   },
   "outputs": [
    {
     "name": "stdout",
     "output_type": "stream",
     "text": [
      "100\n",
      "0\n"
     ]
    }
   ],
   "source": [
    "largest_value = max(df.Friends)\n",
    "smallest_value = min(df.Friends)\n",
    "print(largest_value)\n",
    "print(smallest_value)"
   ]
  },
  {
   "cell_type": "code",
   "execution_count": 61,
   "metadata": {
    "collapsed": false
   },
   "outputs": [
    {
     "data": {
      "text/html": [
       "<div>\n",
       "<table border=\"1\" class=\"dataframe\">\n",
       "  <thead>\n",
       "    <tr style=\"text-align: right;\">\n",
       "      <th></th>\n",
       "      <th>Names</th>\n",
       "      <th>Friends</th>\n",
       "      <th>Minutes</th>\n",
       "    </tr>\n",
       "  </thead>\n",
       "  <tbody>\n",
       "    <tr>\n",
       "      <th>47</th>\n",
       "      <td>Katie</td>\n",
       "      <td>0</td>\n",
       "      <td>4</td>\n",
       "    </tr>\n",
       "    <tr>\n",
       "      <th>391</th>\n",
       "      <td>Roy</td>\n",
       "      <td>0</td>\n",
       "      <td>6</td>\n",
       "    </tr>\n",
       "    <tr>\n",
       "      <th>489</th>\n",
       "      <td>Walker</td>\n",
       "      <td>0</td>\n",
       "      <td>13</td>\n",
       "    </tr>\n",
       "    <tr>\n",
       "      <th>398</th>\n",
       "      <td>Janet</td>\n",
       "      <td>0</td>\n",
       "      <td>20</td>\n",
       "    </tr>\n",
       "    <tr>\n",
       "      <th>388</th>\n",
       "      <td>Natasha</td>\n",
       "      <td>0</td>\n",
       "      <td>28</td>\n",
       "    </tr>\n",
       "    <tr>\n",
       "      <th>998</th>\n",
       "      <td>Levi</td>\n",
       "      <td>0</td>\n",
       "      <td>29</td>\n",
       "    </tr>\n",
       "    <tr>\n",
       "      <th>322</th>\n",
       "      <td>Simon</td>\n",
       "      <td>0</td>\n",
       "      <td>30</td>\n",
       "    </tr>\n",
       "    <tr>\n",
       "      <th>208</th>\n",
       "      <td>Bennie</td>\n",
       "      <td>0</td>\n",
       "      <td>44</td>\n",
       "    </tr>\n",
       "    <tr>\n",
       "      <th>492</th>\n",
       "      <td>Jalyn</td>\n",
       "      <td>0</td>\n",
       "      <td>45</td>\n",
       "    </tr>\n",
       "    <tr>\n",
       "      <th>442</th>\n",
       "      <td>Lee</td>\n",
       "      <td>0</td>\n",
       "      <td>58</td>\n",
       "    </tr>\n",
       "  </tbody>\n",
       "</table>\n",
       "</div>"
      ],
      "text/plain": [
       "       Names  Friends  Minutes\n",
       "47     Katie        0        4\n",
       "391      Roy        0        6\n",
       "489   Walker        0       13\n",
       "398    Janet        0       20\n",
       "388  Natasha        0       28\n",
       "998     Levi        0       29\n",
       "322    Simon        0       30\n",
       "208   Bennie        0       44\n",
       "492    Jalyn        0       45\n",
       "442      Lee        0       58"
      ]
     },
     "execution_count": 61,
     "metadata": {},
     "output_type": "execute_result"
    }
   ],
   "source": [
    "df_sorted = df.sort_values(['Friends',\"Minutes\",\"Names\"], ascending=[True,True,True])\n",
    "df_sorted.head(10)"
   ]
  },
  {
   "cell_type": "code",
   "execution_count": 71,
   "metadata": {
    "collapsed": false
   },
   "outputs": [
    {
     "data": {
      "text/html": [
       "<div>\n",
       "<table border=\"1\" class=\"dataframe\">\n",
       "  <thead>\n",
       "    <tr style=\"text-align: right;\">\n",
       "      <th></th>\n",
       "      <th>Names</th>\n",
       "      <th>Friends</th>\n",
       "      <th>Minutes</th>\n",
       "    </tr>\n",
       "  </thead>\n",
       "  <tbody>\n",
       "    <tr>\n",
       "      <th>33</th>\n",
       "      <td>Jean</td>\n",
       "      <td>99</td>\n",
       "      <td>37</td>\n",
       "    </tr>\n",
       "    <tr>\n",
       "      <th>457</th>\n",
       "      <td>Lonnie</td>\n",
       "      <td>99</td>\n",
       "      <td>47</td>\n",
       "    </tr>\n",
       "    <tr>\n",
       "      <th>145</th>\n",
       "      <td>Gabriele</td>\n",
       "      <td>99</td>\n",
       "      <td>66</td>\n",
       "    </tr>\n",
       "    <tr>\n",
       "      <th>774</th>\n",
       "      <td>Jessa</td>\n",
       "      <td>99</td>\n",
       "      <td>80</td>\n",
       "    </tr>\n",
       "    <tr>\n",
       "      <th>222</th>\n",
       "      <td>Avery</td>\n",
       "      <td>99</td>\n",
       "      <td>101</td>\n",
       "    </tr>\n",
       "    <tr>\n",
       "      <th>495</th>\n",
       "      <td>Rashida</td>\n",
       "      <td>100</td>\n",
       "      <td>42</td>\n",
       "    </tr>\n",
       "    <tr>\n",
       "      <th>678</th>\n",
       "      <td>Ezequiel</td>\n",
       "      <td>100</td>\n",
       "      <td>52</td>\n",
       "    </tr>\n",
       "    <tr>\n",
       "      <th>123</th>\n",
       "      <td>Lisa</td>\n",
       "      <td>100</td>\n",
       "      <td>69</td>\n",
       "    </tr>\n",
       "    <tr>\n",
       "      <th>818</th>\n",
       "      <td>Markita</td>\n",
       "      <td>100</td>\n",
       "      <td>86</td>\n",
       "    </tr>\n",
       "    <tr>\n",
       "      <th>719</th>\n",
       "      <td>Louise</td>\n",
       "      <td>100</td>\n",
       "      <td>103</td>\n",
       "    </tr>\n",
       "  </tbody>\n",
       "</table>\n",
       "</div>"
      ],
      "text/plain": [
       "        Names  Friends  Minutes\n",
       "33       Jean       99       37\n",
       "457    Lonnie       99       47\n",
       "145  Gabriele       99       66\n",
       "774     Jessa       99       80\n",
       "222     Avery       99      101\n",
       "495   Rashida      100       42\n",
       "678  Ezequiel      100       52\n",
       "123      Lisa      100       69\n",
       "818   Markita      100       86\n",
       "719    Louise      100      103"
      ]
     },
     "execution_count": 71,
     "metadata": {},
     "output_type": "execute_result"
    }
   ],
   "source": [
    "df_sorted.tail(10)"
   ]
  },
  {
   "cell_type": "code",
   "execution_count": 72,
   "metadata": {
    "collapsed": false
   },
   "outputs": [
    {
     "name": "stdout",
     "output_type": "stream",
     "text": [
      "Katie 0\n",
      "Roy 0\n",
      "Markita 100\n"
     ]
    }
   ],
   "source": [
    "smallest_value = df_sorted.iloc[0]\n",
    "second_smallest_value = df_sorted.iloc[1]\n",
    "second_largest_value = df_sorted.iloc[-2]\n",
    "print(smallest_value.Names,smallest_value.Friends)\n",
    "print(second_smallest_value.Names,second_smallest_value.Friends)\n",
    "print(second_largest_value.Names,second_largest_value.Friends)"
   ]
  },
  {
   "cell_type": "code",
   "execution_count": 78,
   "metadata": {
    "collapsed": false
   },
   "outputs": [
    {
     "name": "stdout",
     "output_type": "stream",
     "text": [
      "Friends    51.0\n",
      "Minutes    58.0\n",
      "dtype: float64\n",
      "\n",
      "51.0 58.0\n"
     ]
    }
   ],
   "source": [
    "print(df.median())\n",
    "print()\n",
    "print(df.Friends.median(),\n",
    "      df.Minutes.median())"
   ]
  },
  {
   "cell_type": "code",
   "execution_count": 82,
   "metadata": {
    "collapsed": false
   },
   "outputs": [
    {
     "name": "stdout",
     "output_type": "stream",
     "text": [
      "Friends    10.0\n",
      "Minutes    10.0\n",
      "dtype: float64\n",
      "\n",
      "Friends    26.0\n",
      "Minutes    28.0\n",
      "dtype: float64\n",
      "\n",
      "Friends    74.0\n",
      "Minutes    88.0\n",
      "dtype: float64\n",
      "\n",
      "Friends     90.0\n",
      "Minutes    107.0\n",
      "dtype: float64\n"
     ]
    }
   ],
   "source": [
    "print(df.quantile(.1))\n",
    "print()\n",
    "print(df.quantile(.25))\n",
    "print()\n",
    "print(df.quantile(.75))\n",
    "print()\n",
    "print(df.quantile(.9))"
   ]
  },
  {
   "cell_type": "code",
   "execution_count": 83,
   "metadata": {
    "collapsed": false
   },
   "outputs": [
    {
     "name": "stdout",
     "output_type": "stream",
     "text": [
      "       Names  Friends  Minutes\n",
      "0  Catherine     31.0     16.0\n",
      "1     Deidra     34.0      NaN\n",
      "2        Lee      NaN      NaN\n",
      "3     Lonnie      NaN      NaN\n",
      "4    Shirley      NaN      NaN\n"
     ]
    }
   ],
   "source": [
    "print(df.mode())"
   ]
  },
  {
   "cell_type": "code",
   "execution_count": 84,
   "metadata": {
    "collapsed": false
   },
   "outputs": [
    {
     "name": "stdout",
     "output_type": "stream",
     "text": [
      "100\n"
     ]
    }
   ],
   "source": [
    "def dataframe_range(val):\n",
    "    return val.Friends.max() - val.Friends.min()\n",
    "\n",
    "print(dataframe_range(df))"
   ]
  },
  {
   "cell_type": "code",
   "execution_count": 85,
   "metadata": {
    "collapsed": false,
    "scrolled": true
   },
   "outputs": [
    {
     "name": "stdout",
     "output_type": "stream",
     "text": [
      "Friends     826.862763\n",
      "Minutes    1238.047291\n",
      "dtype: float64\n"
     ]
    }
   ],
   "source": [
    "print(df.var())"
   ]
  },
  {
   "cell_type": "code",
   "execution_count": 86,
   "metadata": {
    "collapsed": false
   },
   "outputs": [
    {
     "name": "stdout",
     "output_type": "stream",
     "text": [
      "Friends    28.755221\n",
      "Minutes    35.185896\n",
      "dtype: float64\n"
     ]
    }
   ],
   "source": [
    "print(df.std())"
   ]
  },
  {
   "cell_type": "code",
   "execution_count": 87,
   "metadata": {
    "collapsed": false
   },
   "outputs": [
    {
     "name": "stdout",
     "output_type": "stream",
     "text": [
      "Friends    48.0\n",
      "Minutes    60.0\n",
      "dtype: float64\n"
     ]
    }
   ],
   "source": [
    "def dataframe_iqr(val):\n",
    "    return val.quantile(.75)-val.quantile(.25)\n",
    "\n",
    "print(dataframe_iqr(df))"
   ]
  },
  {
   "cell_type": "code",
   "execution_count": 88,
   "metadata": {
    "collapsed": false
   },
   "outputs": [
    {
     "name": "stdout",
     "output_type": "stream",
     "text": [
      "            Friends      Minutes\n",
      "Friends  826.862763    15.099159\n",
      "Minutes   15.099159  1238.047291\n"
     ]
    }
   ],
   "source": [
    "print(df.cov())"
   ]
  },
  {
   "cell_type": "code",
   "execution_count": 90,
   "metadata": {
    "collapsed": false
   },
   "outputs": [
    {
     "name": "stdout",
     "output_type": "stream",
     "text": [
      "          Friends   Minutes\n",
      "Friends  1.000000  0.014923\n",
      "Minutes  0.014923  1.000000\n"
     ]
    }
   ],
   "source": [
    "print(df.corr())"
   ]
  },
  {
   "cell_type": "code",
   "execution_count": 91,
   "metadata": {
    "collapsed": false
   },
   "outputs": [
    {
     "data": {
      "text/html": [
       "<div>\n",
       "<table border=\"1\" class=\"dataframe\">\n",
       "  <thead>\n",
       "    <tr style=\"text-align: right;\">\n",
       "      <th></th>\n",
       "      <th>Names</th>\n",
       "      <th>Friends</th>\n",
       "      <th>Minutes</th>\n",
       "    </tr>\n",
       "  </thead>\n",
       "  <tbody>\n",
       "    <tr>\n",
       "      <th>995</th>\n",
       "      <td>Ginger</td>\n",
       "      <td>34</td>\n",
       "      <td>42</td>\n",
       "    </tr>\n",
       "    <tr>\n",
       "      <th>996</th>\n",
       "      <td>Addie</td>\n",
       "      <td>31</td>\n",
       "      <td>7</td>\n",
       "    </tr>\n",
       "    <tr>\n",
       "      <th>997</th>\n",
       "      <td>Miranda</td>\n",
       "      <td>72</td>\n",
       "      <td>41</td>\n",
       "    </tr>\n",
       "    <tr>\n",
       "      <th>998</th>\n",
       "      <td>Levi</td>\n",
       "      <td>0</td>\n",
       "      <td>29</td>\n",
       "    </tr>\n",
       "    <tr>\n",
       "      <th>999</th>\n",
       "      <td>Itzel</td>\n",
       "      <td>20</td>\n",
       "      <td>103</td>\n",
       "    </tr>\n",
       "  </tbody>\n",
       "</table>\n",
       "</div>"
      ],
      "text/plain": [
       "       Names  Friends  Minutes\n",
       "995   Ginger       34       42\n",
       "996    Addie       31        7\n",
       "997  Miranda       72       41\n",
       "998     Levi        0       29\n",
       "999    Itzel       20      103"
      ]
     },
     "execution_count": 91,
     "metadata": {},
     "output_type": "execute_result"
    }
   ],
   "source": [
    "df.tail()"
   ]
  },
  {
   "cell_type": "code",
   "execution_count": 96,
   "metadata": {
    "collapsed": false
   },
   "outputs": [
    {
     "data": {
      "text/html": [
       "<div>\n",
       "<table border=\"1\" class=\"dataframe\">\n",
       "  <thead>\n",
       "    <tr style=\"text-align: right;\">\n",
       "      <th></th>\n",
       "      <th>Names</th>\n",
       "      <th>Friends</th>\n",
       "      <th>Minutes</th>\n",
       "    </tr>\n",
       "  </thead>\n",
       "  <tbody>\n",
       "    <tr>\n",
       "      <th>994</th>\n",
       "      <td>Derrick</td>\n",
       "      <td>74</td>\n",
       "      <td>47</td>\n",
       "    </tr>\n",
       "    <tr>\n",
       "      <th>995</th>\n",
       "      <td>Ginger</td>\n",
       "      <td>34</td>\n",
       "      <td>42</td>\n",
       "    </tr>\n",
       "    <tr>\n",
       "      <th>996</th>\n",
       "      <td>Addie</td>\n",
       "      <td>31</td>\n",
       "      <td>7</td>\n",
       "    </tr>\n",
       "    <tr>\n",
       "      <th>997</th>\n",
       "      <td>Miranda</td>\n",
       "      <td>72</td>\n",
       "      <td>41</td>\n",
       "    </tr>\n",
       "    <tr>\n",
       "      <th>998</th>\n",
       "      <td>Levi</td>\n",
       "      <td>0</td>\n",
       "      <td>29</td>\n",
       "    </tr>\n",
       "  </tbody>\n",
       "</table>\n",
       "</div>"
      ],
      "text/plain": [
       "       Names  Friends  Minutes\n",
       "994  Derrick       74       47\n",
       "995   Ginger       34       42\n",
       "996    Addie       31        7\n",
       "997  Miranda       72       41\n",
       "998     Levi        0       29"
      ]
     },
     "execution_count": 96,
     "metadata": {},
     "output_type": "execute_result"
    }
   ],
   "source": [
    "df_smaller = df.drop(df.index[[-1]])\n",
    "df_smaller.tail()"
   ]
  },
  {
   "cell_type": "code",
   "execution_count": 97,
   "metadata": {
    "collapsed": false
   },
   "outputs": [
    {
     "name": "stdout",
     "output_type": "stream",
     "text": [
      "          Friends   Minutes\n",
      "Friends  1.000000  0.014923\n",
      "Minutes  0.014923  1.000000\n"
     ]
    }
   ],
   "source": [
    "print(df.corr())"
   ]
  },
  {
   "cell_type": "code",
   "execution_count": null,
   "metadata": {
    "collapsed": true
   },
   "outputs": [],
   "source": []
  }
 ],
 "metadata": {
  "anaconda-cloud": {},
  "kernelspec": {
   "display_name": "Python [Root]",
   "language": "python",
   "name": "Python [Root]"
  },
  "language_info": {
   "codemirror_mode": {
    "name": "ipython",
    "version": 3
   },
   "file_extension": ".py",
   "mimetype": "text/x-python",
   "name": "python",
   "nbconvert_exporter": "python",
   "pygments_lexer": "ipython3",
   "version": "3.5.2"
  }
 },
 "nbformat": 4,
 "nbformat_minor": 0
}
